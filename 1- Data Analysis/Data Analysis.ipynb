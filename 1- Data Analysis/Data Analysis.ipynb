{
 "cells": [
  {
   "cell_type": "markdown",
   "metadata": {},
   "source": [
    "## Importing the necessary packages"
   ]
  },
  {
   "cell_type": "code",
   "execution_count": 1,
   "metadata": {},
   "outputs": [],
   "source": [
    "import pandas as pd\n",
    "import datetime\n",
    "import warnings\n",
    "import numpy as np\n",
    "import matplotlib.pyplot as plt\n",
    "import math"
   ]
  },
  {
   "cell_type": "markdown",
   "metadata": {},
   "source": [
    "## Function to open the csv.\n",
    "\n",
    "We drop a certain number of columns (often geographical data because not necessary for the analysis). You can also drop rows where data is missing (especially when the nationality is not filled in)."
   ]
  },
  {
   "cell_type": "code",
   "execution_count": 5,
   "metadata": {},
   "outputs": [],
   "source": [
    "def opening(name):\n",
    "    df = pd.read_csv(name, sep = ';')\n",
    "    df = df.drop(columns = ['gid_0', 'name_0', 'gid_1','name_1','gid_2', 'name_2', 'gid_3' ,'name_3', 'gid_4', 'name_4', 'gid_5', 'name_5', 'idplace'])\n",
    "    df['date_review'] = df['date_review'].replace('0000-00-00', np.nan)\n",
    "    df = df.dropna()\n",
    "    df['date_review'] = pd.to_datetime(df['date_review'], format = '%Y-%m-%d')\n",
    "    df = df[df.country != '-']\n",
    "    return df"
   ]
  },
  {
   "cell_type": "code",
   "execution_count": 6,
   "metadata": {},
   "outputs": [
    {
     "data": {
      "text/html": [
       "<div>\n",
       "<style scoped>\n",
       "    .dataframe tbody tr th:only-of-type {\n",
       "        vertical-align: middle;\n",
       "    }\n",
       "\n",
       "    .dataframe tbody tr th {\n",
       "        vertical-align: top;\n",
       "    }\n",
       "\n",
       "    .dataframe thead th {\n",
       "        text-align: right;\n",
       "    }\n",
       "</style>\n",
       "<table border=\"1\" class=\"dataframe\">\n",
       "  <thead>\n",
       "    <tr style=\"text-align: right;\">\n",
       "      <th></th>\n",
       "      <th>nom</th>\n",
       "      <th>latitude</th>\n",
       "      <th>longitude</th>\n",
       "      <th>id</th>\n",
       "      <th>idauteur</th>\n",
       "      <th>date_review</th>\n",
       "      <th>country</th>\n",
       "    </tr>\n",
       "  </thead>\n",
       "  <tbody>\n",
       "    <tr>\n",
       "      <th>0</th>\n",
       "      <td>Cirque d'hiver Bouglione</td>\n",
       "      <td>48,863281</td>\n",
       "      <td>2,367029</td>\n",
       "      <td>360852537</td>\n",
       "      <td>788B1AE23D1FC81E0FF4A49B3C4A2157</td>\n",
       "      <td>2016-04-02</td>\n",
       "      <td>France</td>\n",
       "    </tr>\n",
       "    <tr>\n",
       "      <th>1</th>\n",
       "      <td>Cirque d'hiver Bouglione</td>\n",
       "      <td>48,863281</td>\n",
       "      <td>2,367029</td>\n",
       "      <td>360468722</td>\n",
       "      <td>4255E1F5C307DAFBA22D535AE3A8D2D4</td>\n",
       "      <td>2016-03-31</td>\n",
       "      <td>France</td>\n",
       "    </tr>\n",
       "    <tr>\n",
       "      <th>2</th>\n",
       "      <td>Cirque d'hiver Bouglione</td>\n",
       "      <td>48,863281</td>\n",
       "      <td>2,367029</td>\n",
       "      <td>359792359</td>\n",
       "      <td>E491A2C945CC14E3494A8B9ADE26BB07</td>\n",
       "      <td>2016-03-29</td>\n",
       "      <td>France</td>\n",
       "    </tr>\n",
       "    <tr>\n",
       "      <th>4</th>\n",
       "      <td>Cirque d'hiver Bouglione</td>\n",
       "      <td>48,863281</td>\n",
       "      <td>2,367029</td>\n",
       "      <td>358292121</td>\n",
       "      <td>7865F05D0EFB35546F76C4E56FB02FEF</td>\n",
       "      <td>2016-03-24</td>\n",
       "      <td>France</td>\n",
       "    </tr>\n",
       "    <tr>\n",
       "      <th>5</th>\n",
       "      <td>Cirque d'hiver Bouglione</td>\n",
       "      <td>48,863281</td>\n",
       "      <td>2,367029</td>\n",
       "      <td>355005087</td>\n",
       "      <td>461566E3859745CE0D5CF90401230397</td>\n",
       "      <td>2016-03-13</td>\n",
       "      <td>France</td>\n",
       "    </tr>\n",
       "  </tbody>\n",
       "</table>\n",
       "</div>"
      ],
      "text/plain": [
       "                        nom   latitude longitude         id  \\\n",
       "0  Cirque d'hiver Bouglione  48,863281  2,367029  360852537   \n",
       "1  Cirque d'hiver Bouglione  48,863281  2,367029  360468722   \n",
       "2  Cirque d'hiver Bouglione  48,863281  2,367029  359792359   \n",
       "4  Cirque d'hiver Bouglione  48,863281  2,367029  358292121   \n",
       "5  Cirque d'hiver Bouglione  48,863281  2,367029  355005087   \n",
       "\n",
       "                           idauteur date_review country  \n",
       "0  788B1AE23D1FC81E0FF4A49B3C4A2157  2016-04-02  France  \n",
       "1  4255E1F5C307DAFBA22D535AE3A8D2D4  2016-03-31  France  \n",
       "2  E491A2C945CC14E3494A8B9ADE26BB07  2016-03-29  France  \n",
       "4  7865F05D0EFB35546F76C4E56FB02FEF  2016-03-24  France  \n",
       "5  461566E3859745CE0D5CF90401230397  2016-03-13  France  "
      ]
     },
     "execution_count": 6,
     "metadata": {},
     "output_type": "execute_result"
    }
   ],
   "source": [
    "df = opening('parisTripAdvisor.csv')\n",
    "df.head()"
   ]
  },
  {
   "cell_type": "markdown",
   "metadata": {},
   "source": [
    "### Number of different locations"
   ]
  },
  {
   "cell_type": "code",
   "execution_count": 7,
   "metadata": {},
   "outputs": [
    {
     "data": {
      "text/plain": [
       "23458"
      ]
     },
     "execution_count": 7,
     "metadata": {},
     "output_type": "execute_result"
    }
   ],
   "source": [
    "len(list(set(df['nom'])))"
   ]
  },
  {
   "cell_type": "markdown",
   "metadata": {},
   "source": [
    "### Total number of reviews"
   ]
  },
  {
   "cell_type": "code",
   "execution_count": 8,
   "metadata": {},
   "outputs": [
    {
     "data": {
      "text/plain": [
       "3216637"
      ]
     },
     "execution_count": 8,
     "metadata": {},
     "output_type": "execute_result"
    }
   ],
   "source": [
    "len(df)"
   ]
  },
  {
   "cell_type": "markdown",
   "metadata": {},
   "source": [
    "## Selection of the year for the analysis"
   ]
  },
  {
   "cell_type": "code",
   "execution_count": 11,
   "metadata": {},
   "outputs": [],
   "source": [
    "def year_selection(annee, df):\n",
    "    df = df[(df['date_review'].dt.year > annee - 1) & (df['date_review'].dt.year < annee + 1)]\n",
    "    return df"
   ]
  },
  {
   "cell_type": "code",
   "execution_count": 12,
   "metadata": {},
   "outputs": [],
   "source": [
    "df2 = year_selection(2015, df)"
   ]
  },
  {
   "cell_type": "code",
   "execution_count": 13,
   "metadata": {},
   "outputs": [
    {
     "data": {
      "text/html": [
       "<div>\n",
       "<style scoped>\n",
       "    .dataframe tbody tr th:only-of-type {\n",
       "        vertical-align: middle;\n",
       "    }\n",
       "\n",
       "    .dataframe tbody tr th {\n",
       "        vertical-align: top;\n",
       "    }\n",
       "\n",
       "    .dataframe thead th {\n",
       "        text-align: right;\n",
       "    }\n",
       "</style>\n",
       "<table border=\"1\" class=\"dataframe\">\n",
       "  <thead>\n",
       "    <tr style=\"text-align: right;\">\n",
       "      <th></th>\n",
       "      <th>nom</th>\n",
       "      <th>latitude</th>\n",
       "      <th>longitude</th>\n",
       "      <th>id</th>\n",
       "      <th>idauteur</th>\n",
       "      <th>date_review</th>\n",
       "      <th>country</th>\n",
       "    </tr>\n",
       "  </thead>\n",
       "  <tbody>\n",
       "    <tr>\n",
       "      <th>41</th>\n",
       "      <td>Cirque d'hiver Bouglione</td>\n",
       "      <td>48,863281</td>\n",
       "      <td>2,367029</td>\n",
       "      <td>336292512</td>\n",
       "      <td>D4F7A4362302309DB909D5C283A81077</td>\n",
       "      <td>2015-12-31</td>\n",
       "      <td>France</td>\n",
       "    </tr>\n",
       "    <tr>\n",
       "      <th>42</th>\n",
       "      <td>Cirque d'hiver Bouglione</td>\n",
       "      <td>48,863281</td>\n",
       "      <td>2,367029</td>\n",
       "      <td>336260205</td>\n",
       "      <td>AB9592F3EA0F772D1907760A6C6EBA18</td>\n",
       "      <td>2015-12-31</td>\n",
       "      <td>France</td>\n",
       "    </tr>\n",
       "    <tr>\n",
       "      <th>45</th>\n",
       "      <td>Cirque d'hiver Bouglione</td>\n",
       "      <td>48,863281</td>\n",
       "      <td>2,367029</td>\n",
       "      <td>335413180</td>\n",
       "      <td>62B54358651EBA0EFFE76922FFBC647C</td>\n",
       "      <td>2015-12-28</td>\n",
       "      <td>France</td>\n",
       "    </tr>\n",
       "    <tr>\n",
       "      <th>46</th>\n",
       "      <td>Cirque d'hiver Bouglione</td>\n",
       "      <td>48,863281</td>\n",
       "      <td>2,367029</td>\n",
       "      <td>335407171</td>\n",
       "      <td>E37C49BA1605152F8554A63B7A5E7807</td>\n",
       "      <td>2015-12-28</td>\n",
       "      <td>France</td>\n",
       "    </tr>\n",
       "    <tr>\n",
       "      <th>48</th>\n",
       "      <td>Cirque d'hiver Bouglione</td>\n",
       "      <td>48,863281</td>\n",
       "      <td>2,367029</td>\n",
       "      <td>334586249</td>\n",
       "      <td>A98DF8823A2741328EA4B2D052C11100</td>\n",
       "      <td>2015-12-23</td>\n",
       "      <td>France</td>\n",
       "    </tr>\n",
       "  </tbody>\n",
       "</table>\n",
       "</div>"
      ],
      "text/plain": [
       "                         nom   latitude longitude         id  \\\n",
       "41  Cirque d'hiver Bouglione  48,863281  2,367029  336292512   \n",
       "42  Cirque d'hiver Bouglione  48,863281  2,367029  336260205   \n",
       "45  Cirque d'hiver Bouglione  48,863281  2,367029  335413180   \n",
       "46  Cirque d'hiver Bouglione  48,863281  2,367029  335407171   \n",
       "48  Cirque d'hiver Bouglione  48,863281  2,367029  334586249   \n",
       "\n",
       "                            idauteur date_review country  \n",
       "41  D4F7A4362302309DB909D5C283A81077  2015-12-31  France  \n",
       "42  AB9592F3EA0F772D1907760A6C6EBA18  2015-12-31  France  \n",
       "45  62B54358651EBA0EFFE76922FFBC647C  2015-12-28  France  \n",
       "46  E37C49BA1605152F8554A63B7A5E7807  2015-12-28  France  \n",
       "48  A98DF8823A2741328EA4B2D052C11100  2015-12-23  France  "
      ]
     },
     "execution_count": 13,
     "metadata": {},
     "output_type": "execute_result"
    }
   ],
   "source": [
    "df2.head()"
   ]
  },
  {
   "cell_type": "markdown",
   "metadata": {},
   "source": [
    "## Selection of the number of places to be treated (the top k first)\n",
    "\n",
    "To do so, we group the name of the place, to which we apply the count function of the unique number of reviews (represented by the id column). The result is then sorted in order to have the top of the represented places."
   ]
  },
  {
   "cell_type": "code",
   "execution_count": 9,
   "metadata": {},
   "outputs": [],
   "source": [
    "def top_k(k, df):\n",
    "    top_k = df.groupby('nom').count()['id'].sort_values(ascending = False)[0:k]\n",
    "    return top_k"
   ]
  },
  {
   "cell_type": "code",
   "execution_count": 14,
   "metadata": {},
   "outputs": [],
   "source": [
    "tp_k = top_k(6, df2)"
   ]
  },
  {
   "cell_type": "code",
   "execution_count": 15,
   "metadata": {},
   "outputs": [
    {
     "data": {
      "text/plain": [
       "nom\n",
       "Eiffel Tower                      15226\n",
       "Musée du Louvre                   15000\n",
       "Cathédrale Notre-Dame de Paris     7780\n",
       "Arc de Triomphe                    6929\n",
       "Jardin du Luxembourg               5860\n",
       "La Seine                           4673\n",
       "Name: id, dtype: int64"
      ]
     },
     "execution_count": 15,
     "metadata": {},
     "output_type": "execute_result"
    }
   ],
   "source": [
    "tp_k"
   ]
  },
  {
   "cell_type": "markdown",
   "metadata": {},
   "source": [
    "## We can now reduce the DataFrame to the top k of locations "
   ]
  },
  {
   "cell_type": "code",
   "execution_count": 16,
   "metadata": {},
   "outputs": [],
   "source": [
    "def to_keep(df, top_k):\n",
    "    keep = pd.DataFrame(columns = df.columns)\n",
    "    for places in top_k.index:\n",
    "        keep = keep.append(df[df['nom'] == places])\n",
    "    return keep"
   ]
  },
  {
   "cell_type": "code",
   "execution_count": 17,
   "metadata": {},
   "outputs": [],
   "source": [
    "df3 = to_keep(df2, tp_k).reset_index()"
   ]
  },
  {
   "cell_type": "markdown",
   "metadata": {},
   "source": [
    "### We have the percentage that the top_K represents in relation to the totality of the reviews of the chosen year."
   ]
  },
  {
   "cell_type": "code",
   "execution_count": 18,
   "metadata": {},
   "outputs": [
    {
     "data": {
      "text/plain": [
       "0.09851642798912319"
      ]
     },
     "execution_count": 18,
     "metadata": {},
     "output_type": "execute_result"
    }
   ],
   "source": [
    "len(df3.index)/len(df2.index)"
   ]
  },
  {
   "cell_type": "markdown",
   "metadata": {},
   "source": [
    "## In order to create the sequences, for the sake of clarity and processing, we're going to assign a number to each location. Then reduce it to 1 digit via the ascii column.\n",
    "\n",
    "The Alergia algorithm can be modified later so that it can take into account the double digits."
   ]
  },
  {
   "cell_type": "code",
   "execution_count": 19,
   "metadata": {},
   "outputs": [
    {
     "data": {
      "text/html": [
       "<div>\n",
       "<style scoped>\n",
       "    .dataframe tbody tr th:only-of-type {\n",
       "        vertical-align: middle;\n",
       "    }\n",
       "\n",
       "    .dataframe tbody tr th {\n",
       "        vertical-align: top;\n",
       "    }\n",
       "\n",
       "    .dataframe thead th {\n",
       "        text-align: right;\n",
       "    }\n",
       "</style>\n",
       "<table border=\"1\" class=\"dataframe\">\n",
       "  <thead>\n",
       "    <tr style=\"text-align: right;\">\n",
       "      <th></th>\n",
       "      <th>index</th>\n",
       "      <th>nom</th>\n",
       "      <th>latitude</th>\n",
       "      <th>longitude</th>\n",
       "      <th>id</th>\n",
       "      <th>idauteur</th>\n",
       "      <th>date_review</th>\n",
       "      <th>country</th>\n",
       "      <th>Group_ID</th>\n",
       "      <th>ascii</th>\n",
       "    </tr>\n",
       "  </thead>\n",
       "  <tbody>\n",
       "    <tr>\n",
       "      <th>0</th>\n",
       "      <td>3238162</td>\n",
       "      <td>Eiffel Tower</td>\n",
       "      <td>48,858353</td>\n",
       "      <td>2,294464</td>\n",
       "      <td>336273655</td>\n",
       "      <td>53A823D6A6A185E38D26C8FF282C5594</td>\n",
       "      <td>2015-12-31</td>\n",
       "      <td>Israel</td>\n",
       "      <td>2</td>\n",
       "      <td>2</td>\n",
       "    </tr>\n",
       "    <tr>\n",
       "      <th>1</th>\n",
       "      <td>3238163</td>\n",
       "      <td>Eiffel Tower</td>\n",
       "      <td>48,858353</td>\n",
       "      <td>2,294464</td>\n",
       "      <td>336240024</td>\n",
       "      <td>14D9897C309C9853AD74F8C5739381EE</td>\n",
       "      <td>2015-12-31</td>\n",
       "      <td>France</td>\n",
       "      <td>2</td>\n",
       "      <td>2</td>\n",
       "    </tr>\n",
       "    <tr>\n",
       "      <th>2</th>\n",
       "      <td>3238164</td>\n",
       "      <td>Eiffel Tower</td>\n",
       "      <td>48,858353</td>\n",
       "      <td>2,294464</td>\n",
       "      <td>336228711</td>\n",
       "      <td>2E302BCDA005648A175AB205C71E6C1D</td>\n",
       "      <td>2015-12-31</td>\n",
       "      <td>France</td>\n",
       "      <td>2</td>\n",
       "      <td>2</td>\n",
       "    </tr>\n",
       "    <tr>\n",
       "      <th>3</th>\n",
       "      <td>3238165</td>\n",
       "      <td>Eiffel Tower</td>\n",
       "      <td>48,858353</td>\n",
       "      <td>2,294464</td>\n",
       "      <td>336196997</td>\n",
       "      <td>D98EBFB4F881946F5B2ADB00E36CBF7D</td>\n",
       "      <td>2015-12-31</td>\n",
       "      <td>France</td>\n",
       "      <td>2</td>\n",
       "      <td>2</td>\n",
       "    </tr>\n",
       "    <tr>\n",
       "      <th>4</th>\n",
       "      <td>3238166</td>\n",
       "      <td>Eiffel Tower</td>\n",
       "      <td>48,858353</td>\n",
       "      <td>2,294464</td>\n",
       "      <td>336189517</td>\n",
       "      <td>49343346C346360282FD93D1AFBA488E</td>\n",
       "      <td>2015-12-31</td>\n",
       "      <td>France</td>\n",
       "      <td>2</td>\n",
       "      <td>2</td>\n",
       "    </tr>\n",
       "  </tbody>\n",
       "</table>\n",
       "</div>"
      ],
      "text/plain": [
       "     index           nom   latitude longitude         id  \\\n",
       "0  3238162  Eiffel Tower  48,858353  2,294464  336273655   \n",
       "1  3238163  Eiffel Tower  48,858353  2,294464  336240024   \n",
       "2  3238164  Eiffel Tower  48,858353  2,294464  336228711   \n",
       "3  3238165  Eiffel Tower  48,858353  2,294464  336196997   \n",
       "4  3238166  Eiffel Tower  48,858353  2,294464  336189517   \n",
       "\n",
       "                           idauteur date_review country  Group_ID ascii  \n",
       "0  53A823D6A6A185E38D26C8FF282C5594  2015-12-31  Israel         2     2  \n",
       "1  14D9897C309C9853AD74F8C5739381EE  2015-12-31  France         2     2  \n",
       "2  2E302BCDA005648A175AB205C71E6C1D  2015-12-31  France         2     2  \n",
       "3  D98EBFB4F881946F5B2ADB00E36CBF7D  2015-12-31  France         2     2  \n",
       "4  49343346C346360282FD93D1AFBA488E  2015-12-31  France         2     2  "
      ]
     },
     "execution_count": 19,
     "metadata": {},
     "output_type": "execute_result"
    }
   ],
   "source": [
    "df3['Group_ID'] = df3.groupby('nom').grouper.group_info[0]\n",
    "df3['ascii'] = df3.Group_ID.apply(lambda x: chr(x+48))\n",
    "df3.head()"
   ]
  },
  {
   "cell_type": "code",
   "execution_count": 20,
   "metadata": {},
   "outputs": [],
   "source": [
    "def asciiToName(df):\n",
    "    testdata = df[['ascii', 'nom']].values\n",
    "    return dict(list(set(tuple(x) for x in testdata)))"
   ]
  },
  {
   "cell_type": "code",
   "execution_count": 21,
   "metadata": {},
   "outputs": [
    {
     "data": {
      "text/plain": [
       "{'4': 'La Seine',\n",
       " '3': 'Jardin du Luxembourg',\n",
       " '1': 'Cathédrale Notre-Dame de Paris',\n",
       " '2': 'Eiffel Tower',\n",
       " '5': 'Musée du Louvre',\n",
       " '0': 'Arc de Triomphe'}"
      ]
     },
     "execution_count": 21,
     "metadata": {},
     "output_type": "execute_result"
    }
   ],
   "source": [
    "asciiToName(df3)"
   ]
  },
  {
   "cell_type": "markdown",
   "metadata": {},
   "source": [
    "## We now move on to the creation of sequences for each user. The particularity is that we are going to separate the sequences according to the number of days between 2 photos.\n",
    "\n",
    "We start by grouping the places in chronological order according to the author's id. In other words, we are going to put in a list the reviewed places with their respective date of publication for each user. \n",
    "Then, we will compare the time delta between the review i and the i + 1. If it is less than or equal to the desired parameter, we add the element to the sequence *a* . Otherwise, we end the sequence, and separate the two reviews into 2 distinct sequences *a* and *b*."
   ]
  },
  {
   "cell_type": "code",
   "execution_count": 22,
   "metadata": {},
   "outputs": [],
   "source": [
    "def create_sequencesv2(df, threshold_days):\n",
    "    df2 = df.sort_values('date_review', ascending = True).groupby('idauteur').apply(lambda x: x[['ascii','date_review']].values.tolist()).reset_index(name='col')\n",
    "    \n",
    "    df2['len'] = df2['col'].map(len)\n",
    "    df2 = df2[df2['len'] >= 2] \n",
    "\n",
    "    sequences_finales = [] #used to split patterns according to the threshold of days we want between 2 days\n",
    "            \n",
    "    for element in df2['col']:\n",
    "        sublist = ''\n",
    "        sublist2 = ''\n",
    "        for i in range(1, len(element)):\n",
    "            \n",
    "            diff = abs(element[i-1][1] - element[i][1]).days\n",
    "            \n",
    "            if(diff <= threshold_days): #IF THE PICTURE AND THE PREVIOUS ONE HAVE LESS THAN X DAYS \n",
    "                \n",
    "                if(i == 1): #if at the beginning of the sequence\n",
    "                    sublist += element[i-1][0] #we add the first element of the sequence\n",
    "        \n",
    "                sublist += element[i][0] #if not, we add the current one to the sublist\n",
    "                   \n",
    "            else: #IF THERE IS MORE THAN X DAYS :\n",
    "                \n",
    "                if(len(sublist) != 0): #if we stop a existing sequence, we add it\n",
    "                    sequences_finales.append(sublist)  \n",
    "                    sublist = ''\n",
    "                \n",
    "                if(i == 1): #if at the beginning of the sequence\n",
    "                    sublist += element[i-1][0] #we add the first one\n",
    "                    sequences_finales.append(sublist)  #then we cut the sub-sequence\n",
    "                    sublist ='' #and we reset the sub-sequence\n",
    "                    \n",
    "                sublist += element[i][0] #if not, we create another sub-sequence\n",
    "                \n",
    "                    \n",
    "        if(len(sublist) != 0): #at the end, we add the subsequence\n",
    "            sequences_finales.append(sublist)\n",
    "                    \n",
    "    lieux = df['nom'].unique() \n",
    "    \n",
    "    return lieux, sequences_finales"
   ]
  },
  {
   "cell_type": "code",
   "execution_count": 23,
   "metadata": {},
   "outputs": [],
   "source": [
    "lieux, sequences = create_sequencesv2(df3, 7) #We do use 7 days maximum between 2 reviews"
   ]
  },
  {
   "cell_type": "markdown",
   "metadata": {},
   "source": [
    "### Here are the first 5 sequences cut out according to the number of days between 2 photos. However, we can see that the 5th sequence is size 1. So we have to keep only the sizes > 2."
   ]
  },
  {
   "cell_type": "code",
   "execution_count": 24,
   "metadata": {},
   "outputs": [
    {
     "data": {
      "text/plain": [
       "['25', '51', '5240', '203', '1']"
      ]
     },
     "execution_count": 24,
     "metadata": {},
     "output_type": "execute_result"
    }
   ],
   "source": [
    "sequences[:5]"
   ]
  },
  {
   "cell_type": "code",
   "execution_count": 25,
   "metadata": {},
   "outputs": [],
   "source": [
    "def keepSize2(sequences):\n",
    "    result = []\n",
    "    for s in sequences:\n",
    "        if len(s) >= 2:\n",
    "            result.append(s)\n",
    "    return result"
   ]
  },
  {
   "cell_type": "code",
   "execution_count": 26,
   "metadata": {},
   "outputs": [],
   "source": [
    "seqSize2 = keepSize2(sequences)"
   ]
  },
  {
   "cell_type": "code",
   "execution_count": 27,
   "metadata": {},
   "outputs": [],
   "source": [
    "def averageLen(lst):\n",
    "    lengths = [len(i) for i in lst]\n",
    "    return 0 if len(lengths) == 0 else (float(sum(lengths)) / len(lengths)) "
   ]
  },
  {
   "cell_type": "markdown",
   "metadata": {},
   "source": [
    "### This is the mean length of our sequences: "
   ]
  },
  {
   "cell_type": "code",
   "execution_count": 29,
   "metadata": {},
   "outputs": [
    {
     "data": {
      "text/plain": [
       "2.53369366227879"
      ]
     },
     "execution_count": 29,
     "metadata": {},
     "output_type": "execute_result"
    }
   ],
   "source": [
    "averageLen(seqSize2) "
   ]
  },
  {
   "cell_type": "markdown",
   "metadata": {},
   "source": [
    "### Here are the first 5 sequences returned by the algorithm. We do not have access to any user data, only to sequences of items (each symbol represents a place)."
   ]
  },
  {
   "cell_type": "markdown",
   "metadata": {},
   "source": [
    "### To explain the sequences format:\n",
    "25 means that a tourist went at item 2 and then item 5; i.e. Eiffel Tower and then Louvre's Museum"
   ]
  },
  {
   "cell_type": "code",
   "execution_count": 30,
   "metadata": {},
   "outputs": [
    {
     "data": {
      "text/plain": [
       "['25', '51', '5240', '203', '42035']"
      ]
     },
     "execution_count": 30,
     "metadata": {},
     "output_type": "execute_result"
    }
   ],
   "source": [
    "seqSize2[:5]"
   ]
  }
 ],
 "metadata": {
  "kernelspec": {
   "display_name": "Python 3",
   "language": "python",
   "name": "python3"
  },
  "language_info": {
   "codemirror_mode": {
    "name": "ipython",
    "version": 3
   },
   "file_extension": ".py",
   "mimetype": "text/x-python",
   "name": "python",
   "nbconvert_exporter": "python",
   "pygments_lexer": "ipython3",
   "version": "3.7.6"
  }
 },
 "nbformat": 4,
 "nbformat_minor": 4
}
