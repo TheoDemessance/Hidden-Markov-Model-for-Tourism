{
 "cells": [
  {
   "cell_type": "markdown",
   "metadata": {},
   "source": [
    "## Importing the necessary packages"
   ]
  },
  {
   "cell_type": "code",
   "execution_count": 1,
   "metadata": {},
   "outputs": [],
   "source": [
    "import pandas as pd\n",
    "import datetime\n",
    "import warnings\n",
    "import numpy as np\n",
    "import matplotlib.pyplot as plt\n",
    "import math"
   ]
  },
  {
   "cell_type": "markdown",
   "metadata": {},
   "source": [
    "## Function to open the csv.\n",
    "\n",
    "We drop a certain number of columns (often geographical data because not necessary for the analysis). You can also drop rows where data is missing (especially when the nationality is not filled in)."
   ]
  },
  {
   "cell_type": "code",
   "execution_count": 2,
   "metadata": {},
   "outputs": [],
   "source": [
    "def opening(name):\n",
    "    df = pd.read_csv(name, sep = ',')\n",
    "    df = df.drop(columns = ['Unnamed: 0', 'gid_0', 'name_0', 'gid_1','name_1','gid_2', 'name_2', 'gid_3' ,'name_3', 'gid_4', 'name_4', 'gid_5', 'name_5', 'idplace'])\n",
    "    df['date_review'] = df['date_review'].replace('0000-00-00', np.nan)\n",
    "    df = df.dropna()\n",
    "    df['date_review'] = pd.to_datetime(df['date_review'], format = '%Y-%m-%d')\n",
    "    df = df[df.country != '-']\n",
    "    return df"
   ]
  },
  {
   "cell_type": "code",
   "execution_count": 3,
   "metadata": {},
   "outputs": [
    {
     "data": {
      "text/html": [
       "<div>\n",
       "<style scoped>\n",
       "    .dataframe tbody tr th:only-of-type {\n",
       "        vertical-align: middle;\n",
       "    }\n",
       "\n",
       "    .dataframe tbody tr th {\n",
       "        vertical-align: top;\n",
       "    }\n",
       "\n",
       "    .dataframe thead th {\n",
       "        text-align: right;\n",
       "    }\n",
       "</style>\n",
       "<table border=\"1\" class=\"dataframe\">\n",
       "  <thead>\n",
       "    <tr style=\"text-align: right;\">\n",
       "      <th></th>\n",
       "      <th>nom</th>\n",
       "      <th>latitude</th>\n",
       "      <th>longitude</th>\n",
       "      <th>id</th>\n",
       "      <th>idauteur</th>\n",
       "      <th>date_review</th>\n",
       "      <th>country</th>\n",
       "    </tr>\n",
       "  </thead>\n",
       "  <tbody>\n",
       "    <tr>\n",
       "      <th>0</th>\n",
       "      <td>L'Insoumise, France</td>\n",
       "      <td>48,835045</td>\n",
       "      <td>2,28915</td>\n",
       "      <td>328246480</td>\n",
       "      <td>AEC731BAB7B8CCA02944C293198E3FC6</td>\n",
       "      <td>2015-11-21</td>\n",
       "      <td>Italy</td>\n",
       "    </tr>\n",
       "    <tr>\n",
       "      <th>1</th>\n",
       "      <td>Cinq Mondes Paris</td>\n",
       "      <td>48,871681</td>\n",
       "      <td>2,32899</td>\n",
       "      <td>331590265</td>\n",
       "      <td>26ABC72A68434467E4D20CEC4F1B3DC3</td>\n",
       "      <td>2015-12-09</td>\n",
       "      <td>France</td>\n",
       "    </tr>\n",
       "    <tr>\n",
       "      <th>2</th>\n",
       "      <td>L'Envie, France</td>\n",
       "      <td>48,83414</td>\n",
       "      <td>2,317883</td>\n",
       "      <td>262837346</td>\n",
       "      <td>36B0E60FD21BFE2377C526209C3FF4D5</td>\n",
       "      <td>2015-03-31</td>\n",
       "      <td>France</td>\n",
       "    </tr>\n",
       "    <tr>\n",
       "      <th>3</th>\n",
       "      <td>Le Ciel de Paris, France</td>\n",
       "      <td>48,84219</td>\n",
       "      <td>2,32198</td>\n",
       "      <td>266833774</td>\n",
       "      <td>72C94635808B0207A5A664DD646F3744</td>\n",
       "      <td>2015-04-20</td>\n",
       "      <td>France</td>\n",
       "    </tr>\n",
       "    <tr>\n",
       "      <th>4</th>\n",
       "      <td>Cafe Les Deux Magots, France</td>\n",
       "      <td>48,853973</td>\n",
       "      <td>2,333158</td>\n",
       "      <td>304112023</td>\n",
       "      <td>F007B2D8152512B20BB4EB3E7C5ACA2C</td>\n",
       "      <td>2015-08-27</td>\n",
       "      <td>Brazil</td>\n",
       "    </tr>\n",
       "  </tbody>\n",
       "</table>\n",
       "</div>"
      ],
      "text/plain": [
       "                            nom   latitude longitude         id  \\\n",
       "0           L'Insoumise, France  48,835045   2,28915  328246480   \n",
       "1             Cinq Mondes Paris  48,871681   2,32899  331590265   \n",
       "2               L'Envie, France   48,83414  2,317883  262837346   \n",
       "3      Le Ciel de Paris, France   48,84219   2,32198  266833774   \n",
       "4  Cafe Les Deux Magots, France  48,853973  2,333158  304112023   \n",
       "\n",
       "                           idauteur date_review country  \n",
       "0  AEC731BAB7B8CCA02944C293198E3FC6  2015-11-21   Italy  \n",
       "1  26ABC72A68434467E4D20CEC4F1B3DC3  2015-12-09  France  \n",
       "2  36B0E60FD21BFE2377C526209C3FF4D5  2015-03-31  France  \n",
       "3  72C94635808B0207A5A664DD646F3744  2015-04-20  France  \n",
       "4  F007B2D8152512B20BB4EB3E7C5ACA2C  2015-08-27  Brazil  "
      ]
     },
     "execution_count": 3,
     "metadata": {},
     "output_type": "execute_result"
    }
   ],
   "source": [
    "df = opening(\"../sample_data.csv\")\n",
    "df.head()"
   ]
  },
  {
   "cell_type": "markdown",
   "metadata": {},
   "source": [
    "### Number of different locations"
   ]
  },
  {
   "cell_type": "code",
   "execution_count": 4,
   "metadata": {},
   "outputs": [
    {
     "data": {
      "text/plain": [
       "9420"
      ]
     },
     "execution_count": 4,
     "metadata": {},
     "output_type": "execute_result"
    }
   ],
   "source": [
    "differentLocations = len(list(set(df['nom'])))\n",
    "differentLocations"
   ]
  },
  {
   "cell_type": "markdown",
   "metadata": {},
   "source": [
    "### Total number of reviews"
   ]
  },
  {
   "cell_type": "code",
   "execution_count": 5,
   "metadata": {},
   "outputs": [
    {
     "data": {
      "text/plain": [
       "56264"
      ]
     },
     "execution_count": 5,
     "metadata": {},
     "output_type": "execute_result"
    }
   ],
   "source": [
    "numberReviews = len(df)\n",
    "numberReviews"
   ]
  },
  {
   "cell_type": "markdown",
   "metadata": {},
   "source": [
    "## Selection of the year for the analysis"
   ]
  },
  {
   "cell_type": "code",
   "execution_count": 6,
   "metadata": {},
   "outputs": [],
   "source": [
    "def year_selection(annee, df):\n",
    "    df = df[(df['date_review'].dt.year > annee - 1) & (df['date_review'].dt.year < annee + 1)]\n",
    "    return df"
   ]
  },
  {
   "cell_type": "code",
   "execution_count": 7,
   "metadata": {},
   "outputs": [
    {
     "data": {
      "text/html": [
       "<div>\n",
       "<style scoped>\n",
       "    .dataframe tbody tr th:only-of-type {\n",
       "        vertical-align: middle;\n",
       "    }\n",
       "\n",
       "    .dataframe tbody tr th {\n",
       "        vertical-align: top;\n",
       "    }\n",
       "\n",
       "    .dataframe thead th {\n",
       "        text-align: right;\n",
       "    }\n",
       "</style>\n",
       "<table border=\"1\" class=\"dataframe\">\n",
       "  <thead>\n",
       "    <tr style=\"text-align: right;\">\n",
       "      <th></th>\n",
       "      <th>nom</th>\n",
       "      <th>latitude</th>\n",
       "      <th>longitude</th>\n",
       "      <th>id</th>\n",
       "      <th>idauteur</th>\n",
       "      <th>date_review</th>\n",
       "      <th>country</th>\n",
       "    </tr>\n",
       "  </thead>\n",
       "  <tbody>\n",
       "    <tr>\n",
       "      <th>0</th>\n",
       "      <td>L'Insoumise, France</td>\n",
       "      <td>48,835045</td>\n",
       "      <td>2,28915</td>\n",
       "      <td>328246480</td>\n",
       "      <td>AEC731BAB7B8CCA02944C293198E3FC6</td>\n",
       "      <td>2015-11-21</td>\n",
       "      <td>Italy</td>\n",
       "    </tr>\n",
       "    <tr>\n",
       "      <th>1</th>\n",
       "      <td>Cinq Mondes Paris</td>\n",
       "      <td>48,871681</td>\n",
       "      <td>2,32899</td>\n",
       "      <td>331590265</td>\n",
       "      <td>26ABC72A68434467E4D20CEC4F1B3DC3</td>\n",
       "      <td>2015-12-09</td>\n",
       "      <td>France</td>\n",
       "    </tr>\n",
       "    <tr>\n",
       "      <th>2</th>\n",
       "      <td>L'Envie, France</td>\n",
       "      <td>48,83414</td>\n",
       "      <td>2,317883</td>\n",
       "      <td>262837346</td>\n",
       "      <td>36B0E60FD21BFE2377C526209C3FF4D5</td>\n",
       "      <td>2015-03-31</td>\n",
       "      <td>France</td>\n",
       "    </tr>\n",
       "    <tr>\n",
       "      <th>3</th>\n",
       "      <td>Le Ciel de Paris, France</td>\n",
       "      <td>48,84219</td>\n",
       "      <td>2,32198</td>\n",
       "      <td>266833774</td>\n",
       "      <td>72C94635808B0207A5A664DD646F3744</td>\n",
       "      <td>2015-04-20</td>\n",
       "      <td>France</td>\n",
       "    </tr>\n",
       "    <tr>\n",
       "      <th>4</th>\n",
       "      <td>Cafe Les Deux Magots, France</td>\n",
       "      <td>48,853973</td>\n",
       "      <td>2,333158</td>\n",
       "      <td>304112023</td>\n",
       "      <td>F007B2D8152512B20BB4EB3E7C5ACA2C</td>\n",
       "      <td>2015-08-27</td>\n",
       "      <td>Brazil</td>\n",
       "    </tr>\n",
       "  </tbody>\n",
       "</table>\n",
       "</div>"
      ],
      "text/plain": [
       "                            nom   latitude longitude         id  \\\n",
       "0           L'Insoumise, France  48,835045   2,28915  328246480   \n",
       "1             Cinq Mondes Paris  48,871681   2,32899  331590265   \n",
       "2               L'Envie, France   48,83414  2,317883  262837346   \n",
       "3      Le Ciel de Paris, France   48,84219   2,32198  266833774   \n",
       "4  Cafe Les Deux Magots, France  48,853973  2,333158  304112023   \n",
       "\n",
       "                           idauteur date_review country  \n",
       "0  AEC731BAB7B8CCA02944C293198E3FC6  2015-11-21   Italy  \n",
       "1  26ABC72A68434467E4D20CEC4F1B3DC3  2015-12-09  France  \n",
       "2  36B0E60FD21BFE2377C526209C3FF4D5  2015-03-31  France  \n",
       "3  72C94635808B0207A5A664DD646F3744  2015-04-20  France  \n",
       "4  F007B2D8152512B20BB4EB3E7C5ACA2C  2015-08-27  Brazil  "
      ]
     },
     "execution_count": 7,
     "metadata": {},
     "output_type": "execute_result"
    }
   ],
   "source": [
    "df2 = year_selection(2015, df)\n",
    "df2.head()"
   ]
  },
  {
   "cell_type": "code",
   "execution_count": 8,
   "metadata": {},
   "outputs": [
    {
     "data": {
      "text/plain": [
       "(56264, 7)"
      ]
     },
     "execution_count": 8,
     "metadata": {},
     "output_type": "execute_result"
    }
   ],
   "source": [
    "df2.shape"
   ]
  },
  {
   "cell_type": "markdown",
   "metadata": {},
   "source": [
    "## Selection of the number of places to be treated (the top k first)\n",
    "\n",
    "To do so, we group the name of the place, to which we apply the count function of the unique number of reviews (represented by the id column). The result is then sorted in order to have the top of the represented places."
   ]
  },
  {
   "cell_type": "code",
   "execution_count": 9,
   "metadata": {},
   "outputs": [],
   "source": [
    "def top_k(k, df):\n",
    "    top_k = df.groupby('nom').count()['id'].sort_values(ascending = False)[0:k]\n",
    "    return top_k"
   ]
  },
  {
   "cell_type": "code",
   "execution_count": 10,
   "metadata": {},
   "outputs": [
    {
     "data": {
      "text/plain": [
       "nom\n",
       "Musée du Louvre                          1549\n",
       "Eiffel Tower                             1516\n",
       "Cathédrale Notre-Dame de Paris            749\n",
       "Arc de Triomphe                           711\n",
       "Jardin du Luxembourg                      589\n",
       "La Seine                                  478\n",
       "Musée d'Orsay                             413\n",
       "Basilique du Sacré-Cœur de Montmartre     367\n",
       "Champs-Élysées                            348\n",
       "Opéra Garnier                             333\n",
       "Name: id, dtype: int64"
      ]
     },
     "execution_count": 10,
     "metadata": {},
     "output_type": "execute_result"
    }
   ],
   "source": [
    "tp_k = top_k(10, df)\n",
    "tp_k"
   ]
  },
  {
   "cell_type": "markdown",
   "metadata": {},
   "source": [
    "## We can now reduce the DataFrame to the top k of locations "
   ]
  },
  {
   "cell_type": "code",
   "execution_count": 11,
   "metadata": {},
   "outputs": [],
   "source": [
    "def to_keep(df, top_k):\n",
    "    keep = pd.DataFrame(columns = df.columns)\n",
    "    for places in top_k.index:\n",
    "        keep = keep.append(df[df['nom'] == places])\n",
    "    return keep"
   ]
  },
  {
   "cell_type": "code",
   "execution_count": 12,
   "metadata": {},
   "outputs": [
    {
     "data": {
      "text/html": [
       "<div>\n",
       "<style scoped>\n",
       "    .dataframe tbody tr th:only-of-type {\n",
       "        vertical-align: middle;\n",
       "    }\n",
       "\n",
       "    .dataframe tbody tr th {\n",
       "        vertical-align: top;\n",
       "    }\n",
       "\n",
       "    .dataframe thead th {\n",
       "        text-align: right;\n",
       "    }\n",
       "</style>\n",
       "<table border=\"1\" class=\"dataframe\">\n",
       "  <thead>\n",
       "    <tr style=\"text-align: right;\">\n",
       "      <th></th>\n",
       "      <th>nom</th>\n",
       "      <th>latitude</th>\n",
       "      <th>longitude</th>\n",
       "      <th>id</th>\n",
       "      <th>idauteur</th>\n",
       "      <th>date_review</th>\n",
       "      <th>country</th>\n",
       "    </tr>\n",
       "  </thead>\n",
       "  <tbody>\n",
       "    <tr>\n",
       "      <th>0</th>\n",
       "      <td>Musée du Louvre</td>\n",
       "      <td>48,861</td>\n",
       "      <td>2,335833</td>\n",
       "      <td>311501513</td>\n",
       "      <td>4B018C46529B92190134DEBD3D429BCD</td>\n",
       "      <td>2015-09-18</td>\n",
       "      <td>Italy</td>\n",
       "    </tr>\n",
       "    <tr>\n",
       "      <th>1</th>\n",
       "      <td>Musée du Louvre</td>\n",
       "      <td>48,861</td>\n",
       "      <td>2,335833</td>\n",
       "      <td>288015394</td>\n",
       "      <td>294FB3D2C00277C2A2F563F2D4DA7A55</td>\n",
       "      <td>2015-07-11</td>\n",
       "      <td>Ireland</td>\n",
       "    </tr>\n",
       "    <tr>\n",
       "      <th>2</th>\n",
       "      <td>Musée du Louvre</td>\n",
       "      <td>48,861</td>\n",
       "      <td>2,335833</td>\n",
       "      <td>316627370</td>\n",
       "      <td>39AE30708C84823D0A6DEFB86D7D2370</td>\n",
       "      <td>2015-10-06</td>\n",
       "      <td>Argentina</td>\n",
       "    </tr>\n",
       "    <tr>\n",
       "      <th>3</th>\n",
       "      <td>Musée du Louvre</td>\n",
       "      <td>48,861</td>\n",
       "      <td>2,335833</td>\n",
       "      <td>277869091</td>\n",
       "      <td>2D508690DD4E5281BF88B235E1121A2C</td>\n",
       "      <td>2015-06-04</td>\n",
       "      <td>Turkey</td>\n",
       "    </tr>\n",
       "    <tr>\n",
       "      <th>4</th>\n",
       "      <td>Musée du Louvre</td>\n",
       "      <td>48,861</td>\n",
       "      <td>2,335833</td>\n",
       "      <td>249606817</td>\n",
       "      <td>F6883072C58471A6A04D7FBFB9608DA2</td>\n",
       "      <td>2015-01-16</td>\n",
       "      <td>Brazil</td>\n",
       "    </tr>\n",
       "  </tbody>\n",
       "</table>\n",
       "</div>"
      ],
      "text/plain": [
       "               nom latitude longitude         id  \\\n",
       "0  Musée du Louvre   48,861  2,335833  311501513   \n",
       "1  Musée du Louvre   48,861  2,335833  288015394   \n",
       "2  Musée du Louvre   48,861  2,335833  316627370   \n",
       "3  Musée du Louvre   48,861  2,335833  277869091   \n",
       "4  Musée du Louvre   48,861  2,335833  249606817   \n",
       "\n",
       "                           idauteur date_review    country  \n",
       "0  4B018C46529B92190134DEBD3D429BCD  2015-09-18      Italy  \n",
       "1  294FB3D2C00277C2A2F563F2D4DA7A55  2015-07-11    Ireland  \n",
       "2  39AE30708C84823D0A6DEFB86D7D2370  2015-10-06  Argentina  \n",
       "3  2D508690DD4E5281BF88B235E1121A2C  2015-06-04     Turkey  \n",
       "4  F6883072C58471A6A04D7FBFB9608DA2  2015-01-16     Brazil  "
      ]
     },
     "execution_count": 12,
     "metadata": {},
     "output_type": "execute_result"
    }
   ],
   "source": [
    "df3 = to_keep(df, tp_k).reset_index(drop = True)\n",
    "df3.head()"
   ]
  },
  {
   "cell_type": "code",
   "execution_count": 13,
   "metadata": {},
   "outputs": [
    {
     "data": {
      "text/plain": [
       "(7053, 7)"
      ]
     },
     "execution_count": 13,
     "metadata": {},
     "output_type": "execute_result"
    }
   ],
   "source": [
    "df3.shape"
   ]
  },
  {
   "cell_type": "markdown",
   "metadata": {},
   "source": [
    "### We have the percentage that the top_K represents in relation to the totality of the reviews of the chosen year."
   ]
  },
  {
   "cell_type": "code",
   "execution_count": 14,
   "metadata": {},
   "outputs": [
    {
     "data": {
      "text/plain": [
       "0.12535546708374803"
      ]
     },
     "execution_count": 14,
     "metadata": {},
     "output_type": "execute_result"
    }
   ],
   "source": [
    "reductionRate = len(df3.index)/len(df2.index)\n",
    "reductionRate"
   ]
  },
  {
   "cell_type": "markdown",
   "metadata": {},
   "source": [
    "## In order to create the sequences, for the sake of clarity and processing, we're going to assign a number to each location. Then reduce it to 1 digit via the ascii column.\n",
    "\n",
    "The Alergia algorithm can be modified later so that it can take into account the double digits."
   ]
  },
  {
   "cell_type": "code",
   "execution_count": 15,
   "metadata": {},
   "outputs": [
    {
     "data": {
      "text/html": [
       "<div>\n",
       "<style scoped>\n",
       "    .dataframe tbody tr th:only-of-type {\n",
       "        vertical-align: middle;\n",
       "    }\n",
       "\n",
       "    .dataframe tbody tr th {\n",
       "        vertical-align: top;\n",
       "    }\n",
       "\n",
       "    .dataframe thead th {\n",
       "        text-align: right;\n",
       "    }\n",
       "</style>\n",
       "<table border=\"1\" class=\"dataframe\">\n",
       "  <thead>\n",
       "    <tr style=\"text-align: right;\">\n",
       "      <th></th>\n",
       "      <th>nom</th>\n",
       "      <th>latitude</th>\n",
       "      <th>longitude</th>\n",
       "      <th>id</th>\n",
       "      <th>idauteur</th>\n",
       "      <th>date_review</th>\n",
       "      <th>country</th>\n",
       "      <th>Group_ID</th>\n",
       "      <th>ascii</th>\n",
       "    </tr>\n",
       "  </thead>\n",
       "  <tbody>\n",
       "    <tr>\n",
       "      <th>0</th>\n",
       "      <td>Musée du Louvre</td>\n",
       "      <td>48,861</td>\n",
       "      <td>2,335833</td>\n",
       "      <td>311501513</td>\n",
       "      <td>4B018C46529B92190134DEBD3D429BCD</td>\n",
       "      <td>2015-09-18</td>\n",
       "      <td>Italy</td>\n",
       "      <td>8</td>\n",
       "      <td>8</td>\n",
       "    </tr>\n",
       "    <tr>\n",
       "      <th>1</th>\n",
       "      <td>Musée du Louvre</td>\n",
       "      <td>48,861</td>\n",
       "      <td>2,335833</td>\n",
       "      <td>288015394</td>\n",
       "      <td>294FB3D2C00277C2A2F563F2D4DA7A55</td>\n",
       "      <td>2015-07-11</td>\n",
       "      <td>Ireland</td>\n",
       "      <td>8</td>\n",
       "      <td>8</td>\n",
       "    </tr>\n",
       "    <tr>\n",
       "      <th>2</th>\n",
       "      <td>Musée du Louvre</td>\n",
       "      <td>48,861</td>\n",
       "      <td>2,335833</td>\n",
       "      <td>316627370</td>\n",
       "      <td>39AE30708C84823D0A6DEFB86D7D2370</td>\n",
       "      <td>2015-10-06</td>\n",
       "      <td>Argentina</td>\n",
       "      <td>8</td>\n",
       "      <td>8</td>\n",
       "    </tr>\n",
       "    <tr>\n",
       "      <th>3</th>\n",
       "      <td>Musée du Louvre</td>\n",
       "      <td>48,861</td>\n",
       "      <td>2,335833</td>\n",
       "      <td>277869091</td>\n",
       "      <td>2D508690DD4E5281BF88B235E1121A2C</td>\n",
       "      <td>2015-06-04</td>\n",
       "      <td>Turkey</td>\n",
       "      <td>8</td>\n",
       "      <td>8</td>\n",
       "    </tr>\n",
       "    <tr>\n",
       "      <th>4</th>\n",
       "      <td>Musée du Louvre</td>\n",
       "      <td>48,861</td>\n",
       "      <td>2,335833</td>\n",
       "      <td>249606817</td>\n",
       "      <td>F6883072C58471A6A04D7FBFB9608DA2</td>\n",
       "      <td>2015-01-16</td>\n",
       "      <td>Brazil</td>\n",
       "      <td>8</td>\n",
       "      <td>8</td>\n",
       "    </tr>\n",
       "  </tbody>\n",
       "</table>\n",
       "</div>"
      ],
      "text/plain": [
       "               nom latitude longitude         id  \\\n",
       "0  Musée du Louvre   48,861  2,335833  311501513   \n",
       "1  Musée du Louvre   48,861  2,335833  288015394   \n",
       "2  Musée du Louvre   48,861  2,335833  316627370   \n",
       "3  Musée du Louvre   48,861  2,335833  277869091   \n",
       "4  Musée du Louvre   48,861  2,335833  249606817   \n",
       "\n",
       "                           idauteur date_review    country  Group_ID ascii  \n",
       "0  4B018C46529B92190134DEBD3D429BCD  2015-09-18      Italy         8     8  \n",
       "1  294FB3D2C00277C2A2F563F2D4DA7A55  2015-07-11    Ireland         8     8  \n",
       "2  39AE30708C84823D0A6DEFB86D7D2370  2015-10-06  Argentina         8     8  \n",
       "3  2D508690DD4E5281BF88B235E1121A2C  2015-06-04     Turkey         8     8  \n",
       "4  F6883072C58471A6A04D7FBFB9608DA2  2015-01-16     Brazil         8     8  "
      ]
     },
     "execution_count": 15,
     "metadata": {},
     "output_type": "execute_result"
    }
   ],
   "source": [
    "df3['Group_ID'] = df3.groupby('nom').grouper.group_info[0]\n",
    "df3['ascii'] = df3.Group_ID.apply(lambda x: chr(x+48))\n",
    "df3.head()"
   ]
  },
  {
   "cell_type": "code",
   "execution_count": 16,
   "metadata": {},
   "outputs": [],
   "source": [
    "def asciiToName(df):\n",
    "    testdata = df[['ascii', 'nom']].values\n",
    "    return dict(list(set(tuple(x) for x in testdata)))"
   ]
  },
  {
   "cell_type": "code",
   "execution_count": 17,
   "metadata": {},
   "outputs": [
    {
     "data": {
      "text/plain": [
       "{'5': 'Jardin du Luxembourg',\n",
       " '0': 'Arc de Triomphe',\n",
       " '4': 'Eiffel Tower',\n",
       " '9': 'Opéra Garnier',\n",
       " '2': 'Cathédrale Notre-Dame de Paris',\n",
       " '1': 'Basilique du Sacré-Cœur de Montmartre',\n",
       " '7': \"Musée d'Orsay\",\n",
       " '6': 'La Seine',\n",
       " '8': 'Musée du Louvre',\n",
       " '3': 'Champs-Élysées'}"
      ]
     },
     "execution_count": 17,
     "metadata": {},
     "output_type": "execute_result"
    }
   ],
   "source": [
    "asciiToName(df3)"
   ]
  },
  {
   "cell_type": "markdown",
   "metadata": {},
   "source": [
    "## We now move on to the creation of sequences for each user. The particularity is that we are going to separate the sequences according to the number of days between 2 photos.\n",
    "\n",
    "We start by grouping the places in chronological order according to the author's id. In other words, we are going to put in a list the reviewed places with their respective date of publication for each user. \n",
    "Then, we will compare the time delta between the review i and the i + 1. If it is less than or equal to the desired parameter, we add the element to the sequence *a* . Otherwise, we end the sequence, and separate the two reviews into 2 distinct sequences *a* and *b*."
   ]
  },
  {
   "cell_type": "code",
   "execution_count": 18,
   "metadata": {},
   "outputs": [],
   "source": [
    "def create_sequencesv2(df, threshold_days):\n",
    "    df2 = df.sort_values('date_review', ascending = True).groupby('idauteur').apply(lambda x: x[['ascii','date_review']].values.tolist()).reset_index(name='col')\n",
    "    \n",
    "    df2['len'] = df2['col'].map(len)\n",
    "    df2 = df2[df2['len'] >= 2] \n",
    "\n",
    "    sequences_finales = [] #used to split patterns according to the threshold of days we want between 2 days\n",
    "            \n",
    "    for element in df2['col']:\n",
    "        sublist = ''\n",
    "        sublist2 = ''\n",
    "        for i in range(1, len(element)):\n",
    "            \n",
    "            diff = abs(element[i-1][1] - element[i][1]).days\n",
    "            \n",
    "            if(diff <= threshold_days): #IF THE PICTURE AND THE PREVIOUS ONE HAVE LESS THAN X DAYS \n",
    "                \n",
    "                if(i == 1): #if at the beginning of the sequence\n",
    "                    sublist += element[i-1][0] #we add the first element of the sequence\n",
    "        \n",
    "                sublist += element[i][0] #if not, we add the current one to the sublist\n",
    "                   \n",
    "            else: #IF THERE IS MORE THAN X DAYS :\n",
    "                \n",
    "                if(len(sublist) != 0): #if we stop a existing sequence, we add it\n",
    "                    sequences_finales.append(sublist)  \n",
    "                    sublist = ''\n",
    "                \n",
    "                if(i == 1): #if at the beginning of the sequence\n",
    "                    sublist += element[i-1][0] #we add the first one\n",
    "                    sequences_finales.append(sublist)  #then we cut the sub-sequence\n",
    "                    sublist ='' #and we reset the sub-sequence\n",
    "                    \n",
    "                sublist += element[i][0] #if not, we create another sub-sequence\n",
    "                \n",
    "                    \n",
    "        if(len(sublist) != 0): #at the end, we add the subsequence\n",
    "            sequences_finales.append(sublist)\n",
    "                    \n",
    "    lieux = df['nom'].unique() \n",
    "    \n",
    "    return lieux, sequences_finales"
   ]
  },
  {
   "cell_type": "code",
   "execution_count": 19,
   "metadata": {},
   "outputs": [],
   "source": [
    "lieux, sequences = create_sequencesv2(df3, 7) #We do use 7 days maximum between 2 reviews"
   ]
  },
  {
   "cell_type": "markdown",
   "metadata": {},
   "source": [
    "### Here are the first 5 sequences cut out according to the number of days between 2 photos. However, we can see that the 5th sequence is size 1. So we have to keep only the sizes > 2."
   ]
  },
  {
   "cell_type": "code",
   "execution_count": 20,
   "metadata": {},
   "outputs": [
    {
     "data": {
      "text/plain": [
       "790"
      ]
     },
     "execution_count": 20,
     "metadata": {},
     "output_type": "execute_result"
    }
   ],
   "source": [
    "len(sequences)"
   ]
  },
  {
   "cell_type": "code",
   "execution_count": 21,
   "metadata": {},
   "outputs": [],
   "source": [
    "def keepSize2(sequences):\n",
    "    result = []\n",
    "    for s in sequences:\n",
    "        if len(s) >= 2:\n",
    "            result.append(s)\n",
    "    return result"
   ]
  },
  {
   "cell_type": "code",
   "execution_count": 22,
   "metadata": {},
   "outputs": [],
   "source": [
    "seqSize2 = keepSize2(sequences)"
   ]
  },
  {
   "cell_type": "code",
   "execution_count": 23,
   "metadata": {},
   "outputs": [],
   "source": [
    "def averageLen(lst):\n",
    "    lengths = [len(i) for i in lst]\n",
    "    return 0 if len(lengths) == 0 else (float(sum(lengths)) / len(lengths)) "
   ]
  },
  {
   "cell_type": "markdown",
   "metadata": {},
   "source": [
    "### This is the mean length of our sequences: "
   ]
  },
  {
   "cell_type": "code",
   "execution_count": 24,
   "metadata": {},
   "outputs": [
    {
     "data": {
      "text/plain": [
       "2.0862533692722374"
      ]
     },
     "execution_count": 24,
     "metadata": {},
     "output_type": "execute_result"
    }
   ],
   "source": [
    "averageLen(seqSize2) "
   ]
  },
  {
   "cell_type": "markdown",
   "metadata": {},
   "source": [
    "### Here are the first 5 sequences returned by the algorithm. We do not have access to any user data, only to sequences of items (each symbol represents a place)."
   ]
  },
  {
   "cell_type": "markdown",
   "metadata": {},
   "source": [
    "### To explain the sequences format:\n",
    "96 means that a tourist went at item 9 and then item 6; i.e. Opéra Garnier and then La Seine."
   ]
  },
  {
   "cell_type": "code",
   "execution_count": 25,
   "metadata": {},
   "outputs": [
    {
     "data": {
      "text/plain": [
       "['96', '10', '72', '19', '806']"
      ]
     },
     "execution_count": 25,
     "metadata": {},
     "output_type": "execute_result"
    }
   ],
   "source": [
    "seqSize2[:5]"
   ]
  },
  {
   "cell_type": "code",
   "execution_count": 26,
   "metadata": {},
   "outputs": [],
   "source": [
    "with open('sequences.txt', 'w') as f:\n",
    "    for item in seqSize2:\n",
    "        f.write(\"%s\\n\" % item)"
   ]
  }
 ],
 "metadata": {
  "kernelspec": {
   "display_name": "Python 3",
   "language": "python",
   "name": "python3"
  },
  "language_info": {
   "codemirror_mode": {
    "name": "ipython",
    "version": 3
   },
   "file_extension": ".py",
   "mimetype": "text/x-python",
   "name": "python",
   "nbconvert_exporter": "python",
   "pygments_lexer": "ipython3",
   "version": "3.7.6"
  }
 },
 "nbformat": 4,
 "nbformat_minor": 4
}
