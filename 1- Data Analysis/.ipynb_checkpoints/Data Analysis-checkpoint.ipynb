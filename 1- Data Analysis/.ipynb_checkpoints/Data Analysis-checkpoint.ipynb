{
 "cells": [
  {
   "cell_type": "markdown",
   "metadata": {},
   "source": [
    "## Importing the necessary packages"
   ]
  },
  {
   "cell_type": "code",
   "execution_count": 187,
   "metadata": {},
   "outputs": [],
   "source": [
    "import pandas as pd\n",
    "import datetime\n",
    "import warnings\n",
    "import numpy as np\n",
    "import matplotlib.pyplot as plt\n",
    "import math"
   ]
  },
  {
   "cell_type": "markdown",
   "metadata": {},
   "source": [
    "## Function to open the csv.\n",
    "\n",
    "We drop a certain number of columns (often geographical data because not necessary for the analysis). You can also drop rows where data is missing (especially when the nationality is not filled in)."
   ]
  },
  {
   "cell_type": "code",
   "execution_count": 188,
   "metadata": {},
   "outputs": [],
   "source": [
    "def opening(name):\n",
    "    df = pd.read_csv(name, sep = ',')\n",
    "    df = df.drop(columns = ['Unnamed: 0', 'gid_0', 'name_0', 'gid_1','name_1','gid_2', 'name_2', 'gid_3' ,'name_3', 'gid_4', 'name_4', 'gid_5', 'name_5', 'idplace'])\n",
    "    df['date_review'] = df['date_review'].replace('0000-00-00', np.nan)\n",
    "    df = df.dropna()\n",
    "    df['date_review'] = pd.to_datetime(df['date_review'], format = '%Y-%m-%d')\n",
    "    df = df[df.country != '-']\n",
    "    return df"
   ]
  },
  {
   "cell_type": "code",
   "execution_count": 189,
   "metadata": {},
   "outputs": [
    {
     "data": {
      "text/html": [
       "<div>\n",
       "<style scoped>\n",
       "    .dataframe tbody tr th:only-of-type {\n",
       "        vertical-align: middle;\n",
       "    }\n",
       "\n",
       "    .dataframe tbody tr th {\n",
       "        vertical-align: top;\n",
       "    }\n",
       "\n",
       "    .dataframe thead th {\n",
       "        text-align: right;\n",
       "    }\n",
       "</style>\n",
       "<table border=\"1\" class=\"dataframe\">\n",
       "  <thead>\n",
       "    <tr style=\"text-align: right;\">\n",
       "      <th></th>\n",
       "      <th>nom</th>\n",
       "      <th>latitude</th>\n",
       "      <th>longitude</th>\n",
       "      <th>id</th>\n",
       "      <th>idauteur</th>\n",
       "      <th>date_review</th>\n",
       "      <th>country</th>\n",
       "    </tr>\n",
       "  </thead>\n",
       "  <tbody>\n",
       "    <tr>\n",
       "      <th>0</th>\n",
       "      <td>Les Voiles, France</td>\n",
       "      <td>48,880596</td>\n",
       "      <td>2,293592</td>\n",
       "      <td>290314837</td>\n",
       "      <td>7724A40D7C566C125D6B88F8D481C4E1</td>\n",
       "      <td>2015-07-19</td>\n",
       "      <td>France</td>\n",
       "    </tr>\n",
       "    <tr>\n",
       "      <th>1</th>\n",
       "      <td>Pont des Arts</td>\n",
       "      <td>48,858337</td>\n",
       "      <td>2,337505</td>\n",
       "      <td>287451636</td>\n",
       "      <td>1DDFC1D5B95914F3EB95F4F3B8E14244</td>\n",
       "      <td>2015-07-09</td>\n",
       "      <td>Brazil</td>\n",
       "    </tr>\n",
       "    <tr>\n",
       "      <th>2</th>\n",
       "      <td>Le Pario, France</td>\n",
       "      <td>48,846455</td>\n",
       "      <td>2,283529</td>\n",
       "      <td>270727530</td>\n",
       "      <td>243CB7D159E407D5CA591ECDDD0ABF08</td>\n",
       "      <td>2015-05-08</td>\n",
       "      <td>France</td>\n",
       "    </tr>\n",
       "    <tr>\n",
       "      <th>3</th>\n",
       "      <td>Pierre sang In Oberkampf, France</td>\n",
       "      <td>48,864666</td>\n",
       "      <td>2,372361</td>\n",
       "      <td>275010751</td>\n",
       "      <td>5F2118B1EE8355F6E2667D310A57FBAD</td>\n",
       "      <td>2015-05-27</td>\n",
       "      <td>France</td>\n",
       "    </tr>\n",
       "    <tr>\n",
       "      <th>4</th>\n",
       "      <td>Angelina Paris, France</td>\n",
       "      <td>48,865074</td>\n",
       "      <td>2,328488</td>\n",
       "      <td>317345160</td>\n",
       "      <td>40945E906CA6C96440A58769CA0D3760</td>\n",
       "      <td>2015-10-09</td>\n",
       "      <td>France</td>\n",
       "    </tr>\n",
       "  </tbody>\n",
       "</table>\n",
       "</div>"
      ],
      "text/plain": [
       "                                nom   latitude longitude         id  \\\n",
       "0                Les Voiles, France  48,880596  2,293592  290314837   \n",
       "1                     Pont des Arts  48,858337  2,337505  287451636   \n",
       "2                  Le Pario, France  48,846455  2,283529  270727530   \n",
       "3  Pierre sang In Oberkampf, France  48,864666  2,372361  275010751   \n",
       "4            Angelina Paris, France  48,865074  2,328488  317345160   \n",
       "\n",
       "                           idauteur date_review country  \n",
       "0  7724A40D7C566C125D6B88F8D481C4E1  2015-07-19  France  \n",
       "1  1DDFC1D5B95914F3EB95F4F3B8E14244  2015-07-09  Brazil  \n",
       "2  243CB7D159E407D5CA591ECDDD0ABF08  2015-05-08  France  \n",
       "3  5F2118B1EE8355F6E2667D310A57FBAD  2015-05-27  France  \n",
       "4  40945E906CA6C96440A58769CA0D3760  2015-10-09  France  "
      ]
     },
     "execution_count": 189,
     "metadata": {},
     "output_type": "execute_result"
    }
   ],
   "source": [
    "df = opening(\"../sample_data.csv\")\n",
    "df.head()"
   ]
  },
  {
   "cell_type": "markdown",
   "metadata": {},
   "source": [
    "### Number of different locations"
   ]
  },
  {
   "cell_type": "code",
   "execution_count": 190,
   "metadata": {},
   "outputs": [
    {
     "data": {
      "text/plain": [
       "3891"
      ]
     },
     "execution_count": 190,
     "metadata": {},
     "output_type": "execute_result"
    }
   ],
   "source": [
    "differentLocations = len(list(set(df['nom'])))\n",
    "differentLocations"
   ]
  },
  {
   "cell_type": "markdown",
   "metadata": {},
   "source": [
    "### Total number of reviews"
   ]
  },
  {
   "cell_type": "code",
   "execution_count": 191,
   "metadata": {},
   "outputs": [
    {
     "data": {
      "text/plain": [
       "8471"
      ]
     },
     "execution_count": 191,
     "metadata": {},
     "output_type": "execute_result"
    }
   ],
   "source": [
    "numberReviews = len(df)\n",
    "numberReviews"
   ]
  },
  {
   "cell_type": "markdown",
   "metadata": {},
   "source": [
    "## Selection of the year for the analysis"
   ]
  },
  {
   "cell_type": "code",
   "execution_count": 192,
   "metadata": {},
   "outputs": [],
   "source": [
    "def year_selection(annee, df):\n",
    "    df = df[(df['date_review'].dt.year > annee - 1) & (df['date_review'].dt.year < annee + 1)]\n",
    "    return df"
   ]
  },
  {
   "cell_type": "code",
   "execution_count": 193,
   "metadata": {},
   "outputs": [
    {
     "data": {
      "text/html": [
       "<div>\n",
       "<style scoped>\n",
       "    .dataframe tbody tr th:only-of-type {\n",
       "        vertical-align: middle;\n",
       "    }\n",
       "\n",
       "    .dataframe tbody tr th {\n",
       "        vertical-align: top;\n",
       "    }\n",
       "\n",
       "    .dataframe thead th {\n",
       "        text-align: right;\n",
       "    }\n",
       "</style>\n",
       "<table border=\"1\" class=\"dataframe\">\n",
       "  <thead>\n",
       "    <tr style=\"text-align: right;\">\n",
       "      <th></th>\n",
       "      <th>nom</th>\n",
       "      <th>latitude</th>\n",
       "      <th>longitude</th>\n",
       "      <th>id</th>\n",
       "      <th>idauteur</th>\n",
       "      <th>date_review</th>\n",
       "      <th>country</th>\n",
       "    </tr>\n",
       "  </thead>\n",
       "  <tbody>\n",
       "    <tr>\n",
       "      <th>0</th>\n",
       "      <td>Les Voiles, France</td>\n",
       "      <td>48,880596</td>\n",
       "      <td>2,293592</td>\n",
       "      <td>290314837</td>\n",
       "      <td>7724A40D7C566C125D6B88F8D481C4E1</td>\n",
       "      <td>2015-07-19</td>\n",
       "      <td>France</td>\n",
       "    </tr>\n",
       "    <tr>\n",
       "      <th>1</th>\n",
       "      <td>Pont des Arts</td>\n",
       "      <td>48,858337</td>\n",
       "      <td>2,337505</td>\n",
       "      <td>287451636</td>\n",
       "      <td>1DDFC1D5B95914F3EB95F4F3B8E14244</td>\n",
       "      <td>2015-07-09</td>\n",
       "      <td>Brazil</td>\n",
       "    </tr>\n",
       "    <tr>\n",
       "      <th>2</th>\n",
       "      <td>Le Pario, France</td>\n",
       "      <td>48,846455</td>\n",
       "      <td>2,283529</td>\n",
       "      <td>270727530</td>\n",
       "      <td>243CB7D159E407D5CA591ECDDD0ABF08</td>\n",
       "      <td>2015-05-08</td>\n",
       "      <td>France</td>\n",
       "    </tr>\n",
       "    <tr>\n",
       "      <th>3</th>\n",
       "      <td>Pierre sang In Oberkampf, France</td>\n",
       "      <td>48,864666</td>\n",
       "      <td>2,372361</td>\n",
       "      <td>275010751</td>\n",
       "      <td>5F2118B1EE8355F6E2667D310A57FBAD</td>\n",
       "      <td>2015-05-27</td>\n",
       "      <td>France</td>\n",
       "    </tr>\n",
       "    <tr>\n",
       "      <th>4</th>\n",
       "      <td>Angelina Paris, France</td>\n",
       "      <td>48,865074</td>\n",
       "      <td>2,328488</td>\n",
       "      <td>317345160</td>\n",
       "      <td>40945E906CA6C96440A58769CA0D3760</td>\n",
       "      <td>2015-10-09</td>\n",
       "      <td>France</td>\n",
       "    </tr>\n",
       "  </tbody>\n",
       "</table>\n",
       "</div>"
      ],
      "text/plain": [
       "                                nom   latitude longitude         id  \\\n",
       "0                Les Voiles, France  48,880596  2,293592  290314837   \n",
       "1                     Pont des Arts  48,858337  2,337505  287451636   \n",
       "2                  Le Pario, France  48,846455  2,283529  270727530   \n",
       "3  Pierre sang In Oberkampf, France  48,864666  2,372361  275010751   \n",
       "4            Angelina Paris, France  48,865074  2,328488  317345160   \n",
       "\n",
       "                           idauteur date_review country  \n",
       "0  7724A40D7C566C125D6B88F8D481C4E1  2015-07-19  France  \n",
       "1  1DDFC1D5B95914F3EB95F4F3B8E14244  2015-07-09  Brazil  \n",
       "2  243CB7D159E407D5CA591ECDDD0ABF08  2015-05-08  France  \n",
       "3  5F2118B1EE8355F6E2667D310A57FBAD  2015-05-27  France  \n",
       "4  40945E906CA6C96440A58769CA0D3760  2015-10-09  France  "
      ]
     },
     "execution_count": 193,
     "metadata": {},
     "output_type": "execute_result"
    }
   ],
   "source": [
    "df2 = year_selection(2015, df)\n",
    "df2.head()"
   ]
  },
  {
   "cell_type": "code",
   "execution_count": 194,
   "metadata": {},
   "outputs": [
    {
     "data": {
      "text/plain": [
       "(8471, 7)"
      ]
     },
     "execution_count": 194,
     "metadata": {},
     "output_type": "execute_result"
    }
   ],
   "source": [
    "df2.shape"
   ]
  },
  {
   "cell_type": "markdown",
   "metadata": {},
   "source": [
    "## Selection of the number of places to be treated (the top k first)\n",
    "\n",
    "To do so, we group the name of the place, to which we apply the count function of the unique number of reviews (represented by the id column). The result is then sorted in order to have the top of the represented places."
   ]
  },
  {
   "cell_type": "code",
   "execution_count": 195,
   "metadata": {},
   "outputs": [],
   "source": [
    "def top_k(k, df):\n",
    "    top_k = df.groupby('nom').count()['id'].sort_values(ascending = False)[0:k]\n",
    "    return top_k"
   ]
  },
  {
   "cell_type": "code",
   "execution_count": 196,
   "metadata": {},
   "outputs": [
    {
     "data": {
      "text/plain": [
       "nom\n",
       "Musée du Louvre                          232\n",
       "Eiffel Tower                             224\n",
       "Cathédrale Notre-Dame de Paris           112\n",
       "Arc de Triomphe                          109\n",
       "Jardin du Luxembourg                      95\n",
       "Opéra Garnier                             56\n",
       "La Seine                                  55\n",
       "Basilique du Sacré-Cœur de Montmartre     55\n",
       "Musée d'Orsay                             54\n",
       "Pont Alexandre-III                        46\n",
       "Name: id, dtype: int64"
      ]
     },
     "execution_count": 196,
     "metadata": {},
     "output_type": "execute_result"
    }
   ],
   "source": [
    "tp_k = top_k(10, df)\n",
    "tp_k"
   ]
  },
  {
   "cell_type": "markdown",
   "metadata": {},
   "source": [
    "## We can now reduce the DataFrame to the top k of locations "
   ]
  },
  {
   "cell_type": "code",
   "execution_count": 197,
   "metadata": {},
   "outputs": [],
   "source": [
    "def to_keep(df, top_k):\n",
    "    keep = pd.DataFrame(columns = df.columns)\n",
    "    for places in top_k.index:\n",
    "        keep = keep.append(df[df['nom'] == places])\n",
    "    return keep"
   ]
  },
  {
   "cell_type": "code",
   "execution_count": 198,
   "metadata": {},
   "outputs": [
    {
     "data": {
      "text/html": [
       "<div>\n",
       "<style scoped>\n",
       "    .dataframe tbody tr th:only-of-type {\n",
       "        vertical-align: middle;\n",
       "    }\n",
       "\n",
       "    .dataframe tbody tr th {\n",
       "        vertical-align: top;\n",
       "    }\n",
       "\n",
       "    .dataframe thead th {\n",
       "        text-align: right;\n",
       "    }\n",
       "</style>\n",
       "<table border=\"1\" class=\"dataframe\">\n",
       "  <thead>\n",
       "    <tr style=\"text-align: right;\">\n",
       "      <th></th>\n",
       "      <th>nom</th>\n",
       "      <th>latitude</th>\n",
       "      <th>longitude</th>\n",
       "      <th>id</th>\n",
       "      <th>idauteur</th>\n",
       "      <th>date_review</th>\n",
       "      <th>country</th>\n",
       "    </tr>\n",
       "  </thead>\n",
       "  <tbody>\n",
       "    <tr>\n",
       "      <th>0</th>\n",
       "      <td>Musée du Louvre</td>\n",
       "      <td>48,861</td>\n",
       "      <td>2,335833</td>\n",
       "      <td>257516122</td>\n",
       "      <td>ECD857D6120B8C7E6CD11C13597D0E35</td>\n",
       "      <td>2015-03-03</td>\n",
       "      <td>United States</td>\n",
       "    </tr>\n",
       "    <tr>\n",
       "      <th>1</th>\n",
       "      <td>Musée du Louvre</td>\n",
       "      <td>48,861</td>\n",
       "      <td>2,335833</td>\n",
       "      <td>262132208</td>\n",
       "      <td>9D91051F1F8CBF353A383833CA57B4CF</td>\n",
       "      <td>2015-03-27</td>\n",
       "      <td>France</td>\n",
       "    </tr>\n",
       "    <tr>\n",
       "      <th>2</th>\n",
       "      <td>Musée du Louvre</td>\n",
       "      <td>48,861</td>\n",
       "      <td>2,335833</td>\n",
       "      <td>284360586</td>\n",
       "      <td>B41FAD4E6B32B1044AD40B41A71EA1C6</td>\n",
       "      <td>2015-06-30</td>\n",
       "      <td>Venezuela</td>\n",
       "    </tr>\n",
       "    <tr>\n",
       "      <th>3</th>\n",
       "      <td>Musée du Louvre</td>\n",
       "      <td>48,861</td>\n",
       "      <td>2,335833</td>\n",
       "      <td>274336334</td>\n",
       "      <td>2BF7CF57E6EBA327A3351235F90AA454</td>\n",
       "      <td>2015-05-25</td>\n",
       "      <td>Germany</td>\n",
       "    </tr>\n",
       "    <tr>\n",
       "      <th>4</th>\n",
       "      <td>Musée du Louvre</td>\n",
       "      <td>48,861</td>\n",
       "      <td>2,335833</td>\n",
       "      <td>295583186</td>\n",
       "      <td>2959E31C67D07A5DD24D33B67CB49CD6</td>\n",
       "      <td>2015-08-04</td>\n",
       "      <td>United States</td>\n",
       "    </tr>\n",
       "  </tbody>\n",
       "</table>\n",
       "</div>"
      ],
      "text/plain": [
       "               nom latitude longitude         id  \\\n",
       "0  Musée du Louvre   48,861  2,335833  257516122   \n",
       "1  Musée du Louvre   48,861  2,335833  262132208   \n",
       "2  Musée du Louvre   48,861  2,335833  284360586   \n",
       "3  Musée du Louvre   48,861  2,335833  274336334   \n",
       "4  Musée du Louvre   48,861  2,335833  295583186   \n",
       "\n",
       "                           idauteur date_review        country  \n",
       "0  ECD857D6120B8C7E6CD11C13597D0E35  2015-03-03  United States  \n",
       "1  9D91051F1F8CBF353A383833CA57B4CF  2015-03-27         France  \n",
       "2  B41FAD4E6B32B1044AD40B41A71EA1C6  2015-06-30      Venezuela  \n",
       "3  2BF7CF57E6EBA327A3351235F90AA454  2015-05-25        Germany  \n",
       "4  2959E31C67D07A5DD24D33B67CB49CD6  2015-08-04  United States  "
      ]
     },
     "execution_count": 198,
     "metadata": {},
     "output_type": "execute_result"
    }
   ],
   "source": [
    "df3 = to_keep(df, tp_k).reset_index(drop = True)\n",
    "df3.head()"
   ]
  },
  {
   "cell_type": "code",
   "execution_count": 199,
   "metadata": {},
   "outputs": [
    {
     "data": {
      "text/plain": [
       "(1038, 7)"
      ]
     },
     "execution_count": 199,
     "metadata": {},
     "output_type": "execute_result"
    }
   ],
   "source": [
    "df3.shape"
   ]
  },
  {
   "cell_type": "markdown",
   "metadata": {},
   "source": [
    "### We have the percentage that the top_K represents in relation to the totality of the reviews of the chosen year."
   ]
  },
  {
   "cell_type": "code",
   "execution_count": 200,
   "metadata": {},
   "outputs": [
    {
     "data": {
      "text/plain": [
       "0.12253571006964939"
      ]
     },
     "execution_count": 200,
     "metadata": {},
     "output_type": "execute_result"
    }
   ],
   "source": [
    "reductionRate = len(df3.index)/len(df2.index)\n",
    "reductionRate"
   ]
  },
  {
   "cell_type": "markdown",
   "metadata": {},
   "source": [
    "## In order to create the sequences, for the sake of clarity and processing, we're going to assign a number to each location. Then reduce it to 1 digit via the ascii column.\n",
    "\n",
    "The Alergia algorithm can be modified later so that it can take into account the double digits."
   ]
  },
  {
   "cell_type": "code",
   "execution_count": 201,
   "metadata": {},
   "outputs": [
    {
     "data": {
      "text/html": [
       "<div>\n",
       "<style scoped>\n",
       "    .dataframe tbody tr th:only-of-type {\n",
       "        vertical-align: middle;\n",
       "    }\n",
       "\n",
       "    .dataframe tbody tr th {\n",
       "        vertical-align: top;\n",
       "    }\n",
       "\n",
       "    .dataframe thead th {\n",
       "        text-align: right;\n",
       "    }\n",
       "</style>\n",
       "<table border=\"1\" class=\"dataframe\">\n",
       "  <thead>\n",
       "    <tr style=\"text-align: right;\">\n",
       "      <th></th>\n",
       "      <th>nom</th>\n",
       "      <th>latitude</th>\n",
       "      <th>longitude</th>\n",
       "      <th>id</th>\n",
       "      <th>idauteur</th>\n",
       "      <th>date_review</th>\n",
       "      <th>country</th>\n",
       "      <th>Group_ID</th>\n",
       "      <th>ascii</th>\n",
       "    </tr>\n",
       "  </thead>\n",
       "  <tbody>\n",
       "    <tr>\n",
       "      <th>0</th>\n",
       "      <td>Musée du Louvre</td>\n",
       "      <td>48,861</td>\n",
       "      <td>2,335833</td>\n",
       "      <td>257516122</td>\n",
       "      <td>ECD857D6120B8C7E6CD11C13597D0E35</td>\n",
       "      <td>2015-03-03</td>\n",
       "      <td>United States</td>\n",
       "      <td>7</td>\n",
       "      <td>7</td>\n",
       "    </tr>\n",
       "    <tr>\n",
       "      <th>1</th>\n",
       "      <td>Musée du Louvre</td>\n",
       "      <td>48,861</td>\n",
       "      <td>2,335833</td>\n",
       "      <td>262132208</td>\n",
       "      <td>9D91051F1F8CBF353A383833CA57B4CF</td>\n",
       "      <td>2015-03-27</td>\n",
       "      <td>France</td>\n",
       "      <td>7</td>\n",
       "      <td>7</td>\n",
       "    </tr>\n",
       "    <tr>\n",
       "      <th>2</th>\n",
       "      <td>Musée du Louvre</td>\n",
       "      <td>48,861</td>\n",
       "      <td>2,335833</td>\n",
       "      <td>284360586</td>\n",
       "      <td>B41FAD4E6B32B1044AD40B41A71EA1C6</td>\n",
       "      <td>2015-06-30</td>\n",
       "      <td>Venezuela</td>\n",
       "      <td>7</td>\n",
       "      <td>7</td>\n",
       "    </tr>\n",
       "    <tr>\n",
       "      <th>3</th>\n",
       "      <td>Musée du Louvre</td>\n",
       "      <td>48,861</td>\n",
       "      <td>2,335833</td>\n",
       "      <td>274336334</td>\n",
       "      <td>2BF7CF57E6EBA327A3351235F90AA454</td>\n",
       "      <td>2015-05-25</td>\n",
       "      <td>Germany</td>\n",
       "      <td>7</td>\n",
       "      <td>7</td>\n",
       "    </tr>\n",
       "    <tr>\n",
       "      <th>4</th>\n",
       "      <td>Musée du Louvre</td>\n",
       "      <td>48,861</td>\n",
       "      <td>2,335833</td>\n",
       "      <td>295583186</td>\n",
       "      <td>2959E31C67D07A5DD24D33B67CB49CD6</td>\n",
       "      <td>2015-08-04</td>\n",
       "      <td>United States</td>\n",
       "      <td>7</td>\n",
       "      <td>7</td>\n",
       "    </tr>\n",
       "  </tbody>\n",
       "</table>\n",
       "</div>"
      ],
      "text/plain": [
       "               nom latitude longitude         id  \\\n",
       "0  Musée du Louvre   48,861  2,335833  257516122   \n",
       "1  Musée du Louvre   48,861  2,335833  262132208   \n",
       "2  Musée du Louvre   48,861  2,335833  284360586   \n",
       "3  Musée du Louvre   48,861  2,335833  274336334   \n",
       "4  Musée du Louvre   48,861  2,335833  295583186   \n",
       "\n",
       "                           idauteur date_review        country  Group_ID ascii  \n",
       "0  ECD857D6120B8C7E6CD11C13597D0E35  2015-03-03  United States         7     7  \n",
       "1  9D91051F1F8CBF353A383833CA57B4CF  2015-03-27         France         7     7  \n",
       "2  B41FAD4E6B32B1044AD40B41A71EA1C6  2015-06-30      Venezuela         7     7  \n",
       "3  2BF7CF57E6EBA327A3351235F90AA454  2015-05-25        Germany         7     7  \n",
       "4  2959E31C67D07A5DD24D33B67CB49CD6  2015-08-04  United States         7     7  "
      ]
     },
     "execution_count": 201,
     "metadata": {},
     "output_type": "execute_result"
    }
   ],
   "source": [
    "df3['Group_ID'] = df3.groupby('nom').grouper.group_info[0]\n",
    "df3['ascii'] = df3.Group_ID.apply(lambda x: chr(x+48))\n",
    "df3.head()"
   ]
  },
  {
   "cell_type": "code",
   "execution_count": 202,
   "metadata": {},
   "outputs": [],
   "source": [
    "def asciiToName(df):\n",
    "    testdata = df[['ascii', 'nom']].values\n",
    "    return dict(list(set(tuple(x) for x in testdata)))"
   ]
  },
  {
   "cell_type": "code",
   "execution_count": 203,
   "metadata": {},
   "outputs": [
    {
     "data": {
      "text/plain": [
       "{'2': 'Cathédrale Notre-Dame de Paris',\n",
       " '1': 'Basilique du Sacré-Cœur de Montmartre',\n",
       " '3': 'Eiffel Tower',\n",
       " '0': 'Arc de Triomphe',\n",
       " '9': 'Pont Alexandre-III',\n",
       " '8': 'Opéra Garnier',\n",
       " '5': 'La Seine',\n",
       " '7': 'Musée du Louvre',\n",
       " '4': 'Jardin du Luxembourg',\n",
       " '6': \"Musée d'Orsay\"}"
      ]
     },
     "execution_count": 203,
     "metadata": {},
     "output_type": "execute_result"
    }
   ],
   "source": [
    "asciiToName(df3)"
   ]
  },
  {
   "cell_type": "markdown",
   "metadata": {},
   "source": [
    "## We now move on to the creation of sequences for each user. The particularity is that we are going to separate the sequences according to the number of days between 2 photos.\n",
    "\n",
    "We start by grouping the places in chronological order according to the author's id. In other words, we are going to put in a list the reviewed places with their respective date of publication for each user. \n",
    "Then, we will compare the time delta between the review i and the i + 1. If it is less than or equal to the desired parameter, we add the element to the sequence *a* . Otherwise, we end the sequence, and separate the two reviews into 2 distinct sequences *a* and *b*."
   ]
  },
  {
   "cell_type": "code",
   "execution_count": 204,
   "metadata": {},
   "outputs": [],
   "source": [
    "def create_sequencesv2(df, threshold_days):\n",
    "    df2 = df.sort_values('date_review', ascending = True).groupby('idauteur').apply(lambda x: x[['ascii','date_review']].values.tolist()).reset_index(name='col')\n",
    "    \n",
    "    df2['len'] = df2['col'].map(len)\n",
    "    df2 = df2[df2['len'] >= 2] \n",
    "\n",
    "    sequences_finales = [] #used to split patterns according to the threshold of days we want between 2 days\n",
    "            \n",
    "    for element in df2['col']:\n",
    "        sublist = ''\n",
    "        sublist2 = ''\n",
    "        for i in range(1, len(element)):\n",
    "            \n",
    "            diff = abs(element[i-1][1] - element[i][1]).days\n",
    "            \n",
    "            if(diff <= threshold_days): #IF THE PICTURE AND THE PREVIOUS ONE HAVE LESS THAN X DAYS \n",
    "                \n",
    "                if(i == 1): #if at the beginning of the sequence\n",
    "                    sublist += element[i-1][0] #we add the first element of the sequence\n",
    "        \n",
    "                sublist += element[i][0] #if not, we add the current one to the sublist\n",
    "                   \n",
    "            else: #IF THERE IS MORE THAN X DAYS :\n",
    "                \n",
    "                if(len(sublist) != 0): #if we stop a existing sequence, we add it\n",
    "                    sequences_finales.append(sublist)  \n",
    "                    sublist = ''\n",
    "                \n",
    "                if(i == 1): #if at the beginning of the sequence\n",
    "                    sublist += element[i-1][0] #we add the first one\n",
    "                    sequences_finales.append(sublist)  #then we cut the sub-sequence\n",
    "                    sublist ='' #and we reset the sub-sequence\n",
    "                    \n",
    "                sublist += element[i][0] #if not, we create another sub-sequence\n",
    "                \n",
    "                    \n",
    "        if(len(sublist) != 0): #at the end, we add the subsequence\n",
    "            sequences_finales.append(sublist)\n",
    "                    \n",
    "    lieux = df['nom'].unique() \n",
    "    \n",
    "    return lieux, sequences_finales"
   ]
  },
  {
   "cell_type": "code",
   "execution_count": 205,
   "metadata": {},
   "outputs": [],
   "source": [
    "lieux, sequences = create_sequencesv2(df3, 7) #We do use 7 days maximum between 2 reviews"
   ]
  },
  {
   "cell_type": "markdown",
   "metadata": {},
   "source": [
    "### Here are the first 5 sequences cut out according to the number of days between 2 photos. However, we can see that the 5th sequence is size 1. So we have to keep only the sizes > 2."
   ]
  },
  {
   "cell_type": "code",
   "execution_count": 206,
   "metadata": {},
   "outputs": [
    {
     "data": {
      "text/plain": [
       "21"
      ]
     },
     "execution_count": 206,
     "metadata": {},
     "output_type": "execute_result"
    }
   ],
   "source": [
    "len(sequences)"
   ]
  },
  {
   "cell_type": "code",
   "execution_count": 207,
   "metadata": {},
   "outputs": [],
   "source": [
    "def keepSize2(sequences):\n",
    "    result = []\n",
    "    for s in sequences:\n",
    "        if len(s) >= 2:\n",
    "            result.append(s)\n",
    "    return result"
   ]
  },
  {
   "cell_type": "code",
   "execution_count": 208,
   "metadata": {},
   "outputs": [],
   "source": [
    "seqSize2 = keepSize2(sequences)"
   ]
  },
  {
   "cell_type": "code",
   "execution_count": 209,
   "metadata": {},
   "outputs": [],
   "source": [
    "def averageLen(lst):\n",
    "    lengths = [len(i) for i in lst]\n",
    "    return 0 if len(lengths) == 0 else (float(sum(lengths)) / len(lengths)) "
   ]
  },
  {
   "cell_type": "markdown",
   "metadata": {},
   "source": [
    "### This is the mean length of our sequences: "
   ]
  },
  {
   "cell_type": "code",
   "execution_count": 210,
   "metadata": {},
   "outputs": [
    {
     "data": {
      "text/plain": [
       "2.0"
      ]
     },
     "execution_count": 210,
     "metadata": {},
     "output_type": "execute_result"
    }
   ],
   "source": [
    "averageLen(seqSize2) "
   ]
  },
  {
   "cell_type": "markdown",
   "metadata": {},
   "source": [
    "### Here are the first 5 sequences returned by the algorithm. We do not have access to any user data, only to sequences of items (each symbol represents a place)."
   ]
  },
  {
   "cell_type": "markdown",
   "metadata": {},
   "source": [
    "### To explain the sequences format:\n",
    "38 means that a tourist went at item 3 and then item 8; i.e. Eiffel Tower and then Opéra Garnier."
   ]
  },
  {
   "cell_type": "code",
   "execution_count": 213,
   "metadata": {},
   "outputs": [
    {
     "data": {
      "text/plain": [
       "['38', '93', '37', '03', '37']"
      ]
     },
     "execution_count": 213,
     "metadata": {},
     "output_type": "execute_result"
    }
   ],
   "source": [
    "seqSize2[:5]"
   ]
  },
  {
   "cell_type": "code",
   "execution_count": 214,
   "metadata": {},
   "outputs": [],
   "source": [
    "with open('sequences.txt', 'w') as f:\n",
    "    for item in seqSize2:\n",
    "        f.write(\"%s\\n\" % item)"
   ]
  }
 ],
 "metadata": {
  "kernelspec": {
   "display_name": "Python 3",
   "language": "python",
   "name": "python3"
  },
  "language_info": {
   "codemirror_mode": {
    "name": "ipython",
    "version": 3
   },
   "file_extension": ".py",
   "mimetype": "text/x-python",
   "name": "python",
   "nbconvert_exporter": "python",
   "pygments_lexer": "ipython3",
   "version": "3.7.6"
  }
 },
 "nbformat": 4,
 "nbformat_minor": 4
}
